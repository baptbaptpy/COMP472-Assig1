{
 "cells": [
  {
   "cell_type": "markdown",
   "id": "def58ff1",
   "metadata": {},
   "source": [
    "# COMP 432 - Artificial Intelligence\n",
    "# Assigment 1\n",
    "\n",
    "## Task 2 : Drug Classification"
   ]
  },
  {
   "cell_type": "code",
   "execution_count": 1,
   "id": "8a1e01d2",
   "metadata": {},
   "outputs": [],
   "source": [
    "import numpy as np\n",
    "import matplotlib.pyplot as plt\n",
    "import pandas as pd\n",
    "import os\n",
    "import seaborn as sns\n",
    "from copy import deepcopy\n",
    "import warnings\n",
    "warnings.filterwarnings('ignore')\n",
    "\n",
    "from sklearn.model_selection import train_test_split, GridSearchCV\n",
    "from sklearn.naive_bayes import MultinomialNB\n",
    "from sklearn.tree import DecisionTreeClassifier\n",
    "from sklearn.linear_model import Perceptron\n",
    "from sklearn.neural_network import MLPClassifier\n",
    "from sklearn.metrics import confusion_matrix, classification_report, accuracy_score, f1_score"
   ]
  },
  {
   "cell_type": "markdown",
   "id": "12c93f2c",
   "metadata": {},
   "source": [
    "### Question 2"
   ]
  },
  {
   "cell_type": "code",
   "execution_count": 2,
   "id": "d2ee7fdf",
   "metadata": {},
   "outputs": [
    {
     "name": "stdout",
     "output_type": "stream",
     "text": [
      "     Age Sex      BP Cholesterol  Na_to_K   Drug\n",
      "0     23   F    HIGH        HIGH   25.355  drugY\n",
      "1     47   M     LOW        HIGH   13.093  drugC\n",
      "2     47   M     LOW        HIGH   10.114  drugC\n",
      "3     28   F  NORMAL        HIGH    7.798  drugX\n",
      "4     61   F     LOW        HIGH   18.043  drugY\n",
      "..   ...  ..     ...         ...      ...    ...\n",
      "195   56   F     LOW        HIGH   11.567  drugC\n",
      "196   16   M     LOW        HIGH   12.006  drugC\n",
      "197   52   M  NORMAL        HIGH    9.894  drugX\n",
      "198   23   M  NORMAL      NORMAL   14.020  drugX\n",
      "199   40   F     LOW      NORMAL   11.349  drugX\n",
      "\n",
      "[200 rows x 6 columns]\n"
     ]
    }
   ],
   "source": [
    "data = pd.read_csv('drug200.csv')\n",
    "print(data)"
   ]
  },
  {
   "cell_type": "markdown",
   "id": "980bd26f",
   "metadata": {},
   "source": [
    "### Question 3"
   ]
  },
  {
   "cell_type": "code",
   "execution_count": 3,
   "id": "b84849de",
   "metadata": {},
   "outputs": [
    {
     "name": "stdout",
     "output_type": "stream",
     "text": [
      "{'drugA': 23, 'drugB': 16, 'drugC': 16, 'drugX': 54, 'drugY': 91}\n"
     ]
    }
   ],
   "source": [
    "classes = ['drugA', 'drugB', 'drugC', 'drugX', 'drugY']\n",
    "distrib = {c: data['Drug'].value_counts()[c] for c in classes}\n",
    "print(distrib)"
   ]
  },
  {
   "cell_type": "code",
   "execution_count": 4,
   "id": "b9237d97",
   "metadata": {},
   "outputs": [
    {
     "data": {
      "image/png": "[encoded data removed]",
      "text/plain": [
       "<Figure size 432x288 with 1 Axes>"
      ]
     },
     "metadata": {
      "needs_background": "light"
     },
     "output_type": "display_data"
    }
   ],
   "source": [
    "t = np.arange(len(distrib))\n",
    "plt.bar(t,distrib.values(),align='center')\n",
    "plt.xticks(t,list(distrib.keys()))\n",
    "for index,data_plot in enumerate(list(distrib.values())):\n",
    "    plt.text(x=index , y =data_plot+1 , s=f\"{data_plot}\" , fontdict=dict(fontsize=10))\n",
    "plt.title('distribution of the instances of drugs in each class')\n",
    "plt.ylabel('# of instances')\n",
    "plt.savefig('drug-distribution.pdf')\n",
    "plt.show()"
   ]
  },
  {
   "cell_type": "markdown",
   "id": "20a9bf85",
   "metadata": {},
   "source": [
    "### Question 4"
   ]
  },
  {
   "cell_type": "code",
   "execution_count": 5,
   "id": "ce472518",
   "metadata": {},
   "outputs": [],
   "source": [
    "dum = pd.get_dummies(data)"
   ]
  },
  {
   "cell_type": "code",
   "execution_count": 6,
   "id": "7491fa81",
   "metadata": {},
   "outputs": [
    {
     "data": {
      "text/html": [
       "<div>\n",
       "<style scoped>\n",
       "    .dataframe tbody tr th:only-of-type {\n",
       "        vertical-align: middle;\n",
       "    }\n",
       "\n",
       "    .dataframe tbody tr th {\n",
       "        vertical-align: top;\n",
       "    }\n",
       "\n",
       "    .dataframe thead th {\n",
       "        text-align: right;\n",
       "    }\n",
       "</style>\n",
       "<table border=\"1\" class=\"dataframe\">\n",
       "  <thead>\n",
       "    <tr style=\"text-align: right;\">\n",
       "      <th></th>\n",
       "      <th>Age</th>\n",
       "      <th>Na_to_K</th>\n",
       "      <th>Sex_F</th>\n",
       "      <th>Sex_M</th>\n",
       "      <th>BP_HIGH</th>\n",
       "      <th>BP_LOW</th>\n",
       "      <th>BP_NORMAL</th>\n",
       "      <th>Cholesterol_HIGH</th>\n",
       "      <th>Cholesterol_NORMAL</th>\n",
       "      <th>Drug_drugA</th>\n",
       "      <th>Drug_drugB</th>\n",
       "      <th>Drug_drugC</th>\n",
       "      <th>Drug_drugX</th>\n",
       "      <th>Drug_drugY</th>\n",
       "    </tr>\n",
       "  </thead>\n",
       "  <tbody>\n",
       "    <tr>\n",
       "      <th>0</th>\n",
       "      <td>23</td>\n",
       "      <td>25.355</td>\n",
       "      <td>1</td>\n",
       "      <td>0</td>\n",
       "      <td>1</td>\n",
       "      <td>0</td>\n",
       "      <td>0</td>\n",
       "      <td>1</td>\n",
       "      <td>0</td>\n",
       "      <td>0</td>\n",
       "      <td>0</td>\n",
       "      <td>0</td>\n",
       "      <td>0</td>\n",
       "      <td>1</td>\n",
       "    </tr>\n",
       "    <tr>\n",
       "      <th>1</th>\n",
       "      <td>47</td>\n",
       "      <td>13.093</td>\n",
       "      <td>0</td>\n",
       "      <td>1</td>\n",
       "      <td>0</td>\n",
       "      <td>1</td>\n",
       "      <td>0</td>\n",
       "      <td>1</td>\n",
       "      <td>0</td>\n",
       "      <td>0</td>\n",
       "      <td>0</td>\n",
       "      <td>1</td>\n",
       "      <td>0</td>\n",
       "      <td>0</td>\n",
       "    </tr>\n",
       "    <tr>\n",
       "      <th>2</th>\n",
       "      <td>47</td>\n",
       "      <td>10.114</td>\n",
       "      <td>0</td>\n",
       "      <td>1</td>\n",
       "      <td>0</td>\n",
       "      <td>1</td>\n",
       "      <td>0</td>\n",
       "      <td>1</td>\n",
       "      <td>0</td>\n",
       "      <td>0</td>\n",
       "      <td>0</td>\n",
       "      <td>1</td>\n",
       "      <td>0</td>\n",
       "      <td>0</td>\n",
       "    </tr>\n",
       "    <tr>\n",
       "      <th>3</th>\n",
       "      <td>28</td>\n",
       "      <td>7.798</td>\n",
       "      <td>1</td>\n",
       "      <td>0</td>\n",
       "      <td>0</td>\n",
       "      <td>0</td>\n",
       "      <td>1</td>\n",
       "      <td>1</td>\n",
       "      <td>0</td>\n",
       "      <td>0</td>\n",
       "      <td>0</td>\n",
       "      <td>0</td>\n",
       "      <td>1</td>\n",
       "      <td>0</td>\n",
       "    </tr>\n",
       "    <tr>\n",
       "      <th>4</th>\n",
       "      <td>61</td>\n",
       "      <td>18.043</td>\n",
       "      <td>1</td>\n",
       "      <td>0</td>\n",
       "      <td>0</td>\n",
       "      <td>1</td>\n",
       "      <td>0</td>\n",
       "      <td>1</td>\n",
       "      <td>0</td>\n",
       "      <td>0</td>\n",
       "      <td>0</td>\n",
       "      <td>0</td>\n",
       "      <td>0</td>\n",
       "      <td>1</td>\n",
       "    </tr>\n",
       "    <tr>\n",
       "      <th>...</th>\n",
       "      <td>...</td>\n",
       "      <td>...</td>\n",
       "      <td>...</td>\n",
       "      <td>...</td>\n",
       "      <td>...</td>\n",
       "      <td>...</td>\n",
       "      <td>...</td>\n",
       "      <td>...</td>\n",
       "      <td>...</td>\n",
       "      <td>...</td>\n",
       "      <td>...</td>\n",
       "      <td>...</td>\n",
       "      <td>...</td>\n",
       "      <td>...</td>\n",
       "    </tr>\n",
       "    <tr>\n",
       "      <th>195</th>\n",
       "      <td>56</td>\n",
       "      <td>11.567</td>\n",
       "      <td>1</td>\n",
       "      <td>0</td>\n",
       "      <td>0</td>\n",
       "      <td>1</td>\n",
       "      <td>0</td>\n",
       "      <td>1</td>\n",
       "      <td>0</td>\n",
       "      <td>0</td>\n",
       "      <td>0</td>\n",
       "      <td>1</td>\n",
       "      <td>0</td>\n",
       "      <td>0</td>\n",
       "    </tr>\n",
       "    <tr>\n",
       "      <th>196</th>\n",
       "      <td>16</td>\n",
       "      <td>12.006</td>\n",
       "      <td>0</td>\n",
       "      <td>1</td>\n",
       "      <td>0</td>\n",
       "      <td>1</td>\n",
       "      <td>0</td>\n",
       "      <td>1</td>\n",
       "      <td>0</td>\n",
       "      <td>0</td>\n",
       "      <td>0</td>\n",
       "      <td>1</td>\n",
       "      <td>0</td>\n",
       "      <td>0</td>\n",
       "    </tr>\n",
       "    <tr>\n",
       "      <th>197</th>\n",
       "      <td>52</td>\n",
       "      <td>9.894</td>\n",
       "      <td>0</td>\n",
       "      <td>1</td>\n",
       "      <td>0</td>\n",
       "      <td>0</td>\n",
       "      <td>1</td>\n",
       "      <td>1</td>\n",
       "      <td>0</td>\n",
       "      <td>0</td>\n",
       "      <td>0</td>\n",
       "      <td>0</td>\n",
       "      <td>1</td>\n",
       "      <td>0</td>\n",
       "    </tr>\n",
       "    <tr>\n",
       "      <th>198</th>\n",
       "      <td>23</td>\n",
       "      <td>14.020</td>\n",
       "      <td>0</td>\n",
       "      <td>1</td>\n",
       "      <td>0</td>\n",
       "      <td>0</td>\n",
       "      <td>1</td>\n",
       "      <td>0</td>\n",
       "      <td>1</td>\n",
       "      <td>0</td>\n",
       "      <td>0</td>\n",
       "      <td>0</td>\n",
       "      <td>1</td>\n",
       "      <td>0</td>\n",
       "    </tr>\n",
       "    <tr>\n",
       "      <th>199</th>\n",
       "      <td>40</td>\n",
       "      <td>11.349</td>\n",
       "      <td>1</td>\n",
       "      <td>0</td>\n",
       "      <td>0</td>\n",
       "      <td>1</td>\n",
       "      <td>0</td>\n",
       "      <td>0</td>\n",
       "      <td>1</td>\n",
       "      <td>0</td>\n",
       "      <td>0</td>\n",
       "      <td>0</td>\n",
       "      <td>1</td>\n",
       "      <td>0</td>\n",
       "    </tr>\n",
       "  </tbody>\n",
       "</table>\n",
       "<p>200 rows × 14 columns</p>\n",
       "</div>"
      ],
      "text/plain": [
       "     Age  Na_to_K  Sex_F  Sex_M  BP_HIGH  BP_LOW  BP_NORMAL  Cholesterol_HIGH  \\\n",
       "0     23   25.355      1      0        1       0          0                 1   \n",
       "1     47   13.093      0      1        0       1          0                 1   \n",
       "2     47   10.114      0      1        0       1          0                 1   \n",
       "3     28    7.798      1      0        0       0          1                 1   \n",
       "4     61   18.043      1      0        0       1          0                 1   \n",
       "..   ...      ...    ...    ...      ...     ...        ...               ...   \n",
       "195   56   11.567      1      0        0       1          0                 1   \n",
       "196   16   12.006      0      1        0       1          0                 1   \n",
       "197   52    9.894      0      1        0       0          1                 1   \n",
       "198   23   14.020      0      1        0       0          1                 0   \n",
       "199   40   11.349      1      0        0       1          0                 0   \n",
       "\n",
       "     Cholesterol_NORMAL  Drug_drugA  Drug_drugB  Drug_drugC  Drug_drugX  \\\n",
       "0                     0           0           0           0           0   \n",
       "1                     0           0           0           1           0   \n",
       "2                     0           0           0           1           0   \n",
       "3                     0           0           0           0           1   \n",
       "4                     0           0           0           0           0   \n",
       "..                  ...         ...         ...         ...         ...   \n",
       "195                   0           0           0           1           0   \n",
       "196                   0           0           0           1           0   \n",
       "197                   0           0           0           0           1   \n",
       "198                   1           0           0           0           1   \n",
       "199                   1           0           0           0           1   \n",
       "\n",
       "     Drug_drugY  \n",
       "0             1  \n",
       "1             0  \n",
       "2             0  \n",
       "3             0  \n",
       "4             1  \n",
       "..          ...  \n",
       "195           0  \n",
       "196           0  \n",
       "197           0  \n",
       "198           0  \n",
       "199           0  \n",
       "\n",
       "[200 rows x 14 columns]"
      ]
     },
     "execution_count": 6,
     "metadata": {},
     "output_type": "execute_result"
    }
   ],
   "source": [
    "dum"
   ]
  },
  {
   "cell_type": "code",
   "execution_count": 7,
   "id": "4d1349c7",
   "metadata": {},
   "outputs": [],
   "source": [
    "Y = data['Drug']\n",
    "X = dum[dum.columns.values[0:9]]\n"
   ]
  },
  {
   "cell_type": "markdown",
   "id": "07726bfc",
   "metadata": {},
   "source": [
    "### Question 5"
   ]
  },
  {
   "cell_type": "code",
   "execution_count": 8,
   "id": "a6db5027",
   "metadata": {},
   "outputs": [],
   "source": [
    "X_train, X_test, Y_train, Y_test = train_test_split(X, Y)"
   ]
  },
  {
   "cell_type": "markdown",
   "id": "8b1fb579",
   "metadata": {},
   "source": [
    "### Question 6\n",
    "\n",
    "#### a)"
   ]
  },
  {
   "cell_type": "code",
   "execution_count": 9,
   "id": "033c80f2",
   "metadata": {
    "scrolled": true
   },
   "outputs": [
    {
     "data": {
      "text/plain": [
       "MultinomialNB()"
      ]
     },
     "execution_count": 9,
     "metadata": {},
     "output_type": "execute_result"
    }
   ],
   "source": [
    "nb_class = MultinomialNB()\n",
    "nb_class.fit(X_train, Y_train)"
   ]
  },
  {
   "cell_type": "code",
   "execution_count": 10,
   "id": "b8eabe4e",
   "metadata": {},
   "outputs": [
    {
     "name": "stdout",
     "output_type": "stream",
     "text": [
      "accuracy multinomial Naive Bayes Classifier : 66.000000%\n"
     ]
    }
   ],
   "source": [
    "Y_nb_pred = nb_class.predict(X_test)\n",
    "score_nb = nb_class.score(X_test, Y_test)\n",
    "print('accuracy multinomial Naive Bayes Classifier : {:f}%'.format(score_nb*100))"
   ]
  },
  {
   "cell_type": "markdown",
   "id": "452cf7d1",
   "metadata": {},
   "source": [
    "#### b)"
   ]
  },
  {
   "cell_type": "code",
   "execution_count": 11,
   "id": "16b82a12",
   "metadata": {
    "scrolled": true
   },
   "outputs": [
    {
     "data": {
      "text/plain": [
       "DecisionTreeClassifier()"
      ]
     },
     "execution_count": 11,
     "metadata": {},
     "output_type": "execute_result"
    }
   ],
   "source": [
    "base_dt_class = DecisionTreeClassifier()\n",
    "base_dt_class.fit(X_train, Y_train)"
   ]
  },
  {
   "cell_type": "code",
   "execution_count": 12,
   "id": "5185082a",
   "metadata": {
    "scrolled": false
   },
   "outputs": [
    {
     "name": "stdout",
     "output_type": "stream",
     "text": [
      "accuracy basic Decision Tree Classifier : 100.000000%\n"
     ]
    }
   ],
   "source": [
    "Y_base_dt_pred = base_dt_class.predict(X_test)\n",
    "score_base_dt = base_dt_class.score(X_test, Y_test)\n",
    "print('accuracy basic Decision Tree Classifier : {:f}%'.format(score_base_dt*100))"
   ]
  },
  {
   "cell_type": "markdown",
   "id": "6274ac40",
   "metadata": {},
   "source": [
    "#### c)"
   ]
  },
  {
   "cell_type": "code",
   "execution_count": 13,
   "id": "3a81e852",
   "metadata": {
    "scrolled": true
   },
   "outputs": [
    {
     "name": "stdout",
     "output_type": "stream",
     "text": [
      "{'criterion': 'gini', 'max_depth': 4, 'min_samples_split': 2}\n"
     ]
    }
   ],
   "source": [
    "top_dt_class = DecisionTreeClassifier()\n",
    "parameters = {\n",
    "    'criterion': ['gini', 'entropy'],\n",
    "    'max_depth': [4,8],\n",
    "    'min_samples_split': [1,2,3],\n",
    "}\n",
    "top_dt_class = GridSearchCV(top_dt_class,param_grid=parameters)\n",
    "top_dt_class.fit(X_train, Y_train)\n",
    "print(top_dt_class.best_params_)"
   ]
  },
  {
   "cell_type": "code",
   "execution_count": 14,
   "id": "f0c6cd7e",
   "metadata": {},
   "outputs": [
    {
     "name": "stdout",
     "output_type": "stream",
     "text": [
      "accuracy Top Decision Tree Classifier : 100.000000%\n"
     ]
    }
   ],
   "source": [
    "Y_top_dt_pred = top_dt_class.predict(X_test)\n",
    "score_top_dt = top_dt_class.score(X_test, Y_test)\n",
    "print('accuracy Top Decision Tree Classifier : {:f}%'.format(score_top_dt*100))"
   ]
  },
  {
   "cell_type": "code",
   "execution_count": 15,
   "id": "9763e9f4",
   "metadata": {},
   "outputs": [
    {
     "name": "stdout",
     "output_type": "stream",
     "text": [
      "{'criterion': 'gini', 'max_depth': 4, 'min_samples_split': 2}\n"
     ]
    }
   ],
   "source": [
    "print(top_dt_class.best_params_)"
   ]
  },
  {
   "cell_type": "markdown",
   "id": "6e94669a",
   "metadata": {},
   "source": [
    "#### d)"
   ]
  },
  {
   "cell_type": "code",
   "execution_count": 16,
   "id": "cf1a8517",
   "metadata": {},
   "outputs": [
    {
     "data": {
      "text/plain": [
       "Perceptron()"
      ]
     },
     "execution_count": 16,
     "metadata": {},
     "output_type": "execute_result"
    }
   ],
   "source": [
    "per_class = Perceptron()\n",
    "per_class.fit(X_train, Y_train)"
   ]
  },
  {
   "cell_type": "code",
   "execution_count": 17,
   "id": "a871b40f",
   "metadata": {},
   "outputs": [
    {
     "name": "stdout",
     "output_type": "stream",
     "text": [
      "accuracy Perceptron Classifier : 40.000000%\n"
     ]
    }
   ],
   "source": [
    "Y_per_pred = per_class.predict(X_test)\n",
    "score_per = per_class.score(X_test, Y_test)\n",
    "print('accuracy Perceptron Classifier : {:f}%'.format(score_per*100))"
   ]
  },
  {
   "cell_type": "markdown",
   "id": "82ae827e",
   "metadata": {},
   "source": [
    "#### e)"
   ]
  },
  {
   "cell_type": "code",
   "execution_count": 18,
   "id": "f2da5c64",
   "metadata": {},
   "outputs": [
    {
     "data": {
      "text/plain": [
       "MLPClassifier(activation='logistic', solver='sgd')"
      ]
     },
     "execution_count": 18,
     "metadata": {},
     "output_type": "execute_result"
    }
   ],
   "source": [
    "mlp_class = MLPClassifier(activation = 'logistic', solver='sgd')\n",
    "mlp_class.fit(X_train, Y_train)"
   ]
  },
  {
   "cell_type": "code",
   "execution_count": 19,
   "id": "a012a083",
   "metadata": {},
   "outputs": [
    {
     "name": "stdout",
     "output_type": "stream",
     "text": [
      "accuracy MulitLayer Perceptron Classifier : 52.000000%\n"
     ]
    }
   ],
   "source": [
    "Y_mlp_pred = mlp_class.predict(X_test)\n",
    "score_mlp = mlp_class.score(X_test, Y_test)\n",
    "print('accuracy MulitLayer Perceptron Classifier : {:f}%'.format(score_mlp*100))"
   ]
  },
  {
   "cell_type": "markdown",
   "id": "99f6c20c",
   "metadata": {},
   "source": [
    "#### f)"
   ]
  },
  {
   "cell_type": "code",
   "execution_count": 20,
   "id": "9cd7b65f",
   "metadata": {
    "scrolled": true
   },
   "outputs": [
    {
     "data": {
      "text/plain": [
       "GridSearchCV(estimator=MLPClassifier(),\n",
       "             param_grid={'activation': ['logistic', 'tanh', 'relu', 'identity'],\n",
       "                         'hidden_layer_sizes': [(30, 50), (10, 10, 10)],\n",
       "                         'solver': ['adam', 'sgd']})"
      ]
     },
     "execution_count": 20,
     "metadata": {},
     "output_type": "execute_result"
    }
   ],
   "source": [
    "top_mlp_class = MLPClassifier()\n",
    "parameters = {\n",
    "    'activation': ['logistic', 'tanh', 'relu', 'identity'],\n",
    "    'hidden_layer_sizes': [(30,50),(10,10,10)],\n",
    "    'solver': ['adam', 'sgd'],\n",
    "}\n",
    "top_mlp_class = GridSearchCV(top_mlp_class, param_grid=parameters)\n",
    "top_mlp_class.fit(X_train, Y_train)\n",
    "    \n",
    "    "
   ]
  },
  {
   "cell_type": "code",
   "execution_count": 21,
   "id": "a4139ce9",
   "metadata": {},
   "outputs": [
    {
     "name": "stdout",
     "output_type": "stream",
     "text": [
      "accuracy MulitLayer Perceptron Classifier : 90.000000%\n"
     ]
    }
   ],
   "source": [
    "Y_top_mlp_pred = top_mlp_class.predict(X_test)\n",
    "score_top_mlp = top_mlp_class.score(X_test, Y_test)\n",
    "print('accuracy MulitLayer Perceptron Classifier : {:f}%'.format(score_top_mlp*100))"
   ]
  },
  {
   "cell_type": "code",
   "execution_count": 22,
   "id": "68226e1b",
   "metadata": {},
   "outputs": [
    {
     "name": "stdout",
     "output_type": "stream",
     "text": [
      "{'activation': 'tanh', 'hidden_layer_sizes': (30, 50), 'solver': 'adam'}\n"
     ]
    }
   ],
   "source": [
    "print(top_mlp_class.best_params_)"
   ]
  },
  {
   "cell_type": "markdown",
   "id": "1ad1d750",
   "metadata": {},
   "source": [
    "### Question 7"
   ]
  },
  {
   "cell_type": "code",
   "execution_count": 23,
   "id": "77e0f1d4",
   "metadata": {},
   "outputs": [
    {
     "data": {
      "text/plain": [
       "[Text(0, 0.5, 'drugA'),\n",
       " Text(0, 1.5, 'drugB'),\n",
       " Text(0, 2.5, 'drugC'),\n",
       " Text(0, 3.5, 'drugX'),\n",
       " Text(0, 4.5, 'drugY')]"
      ]
     },
     "execution_count": 23,
     "metadata": {},
     "output_type": "execute_result"
    },
    {
     "data": {
      "image/png": "[encoded data removed]",
      "text/plain": [
       "<Figure size 432x288 with 2 Axes>"
      ]
     },
     "metadata": {
      "needs_background": "light"
     },
     "output_type": "display_data"
    }
   ],
   "source": [
    "cm = confusion_matrix(Y_test,Y_base_dt_pred)\n",
    "ax= plt.subplot()\n",
    "sns.heatmap(cm, annot=True, fmt='g', ax=ax);  #annot=True to annotate cells, ftm='g' to disable scientific notation\n",
    "\n",
    "# labels, title and ticks\n",
    "ax.set_xlabel('Predicted labels')\n",
    "ax.set_ylabel('True labels')\n",
    "ax.set_title('Confusion Matrix')\n",
    "ax.xaxis.set_ticklabels(classes)\n",
    "ax.yaxis.set_ticklabels(classes)"
   ]
  },
  {
   "cell_type": "code",
   "execution_count": 24,
   "id": "ff027583",
   "metadata": {},
   "outputs": [
    {
     "name": "stdout",
     "output_type": "stream",
     "text": [
      "\n",
      "\n",
      "\n",
      "---------------- Top Multi Layer Perceptron classifier ----------------\n",
      "\t\tBest parameters found by GridSearchCv :\n",
      "activation: tanh ; hidden_layer_sizes: (30, 50) ; solver: adam ; \n",
      "\n",
      "\n",
      "b) Confusion matrix\n",
      "\n",
      "axis : x-> Predicted labels; y-> True labels\n",
      "\n",
      "|drA|drB|drC|drX|drY|\n",
      "---------------------\n",
      "|8  |0  |0  |0  |0  |drA\n",
      "|4  |3  |0  |0  |0  |drB\n",
      "|0  |0  |3  |1  |0  |drC\n",
      "|0  |0  |0  |9  |0  |drX\n",
      "|0  |0  |0  |0  |22 |drY\n",
      "\n",
      "\n",
      "c) Precision, recall, and F1-measure\n",
      "\n",
      "             | precision |  recall  | f1-score |\n",
      "drugA        |0.666666   |1.0       |0.8       |\n",
      "drugB        |1.0        |0.428571  |0.6       |\n",
      "drugC        |1.0        |0.75      |0.857142  |\n",
      "drugX        |0.9        |1.0       |0.947368  |\n",
      "drugY        |1.0        |1.0       |1.0       |\n",
      "\n",
      "\n",
      "\n",
      "d) Accuracy, macro-average F1 and weighted-average F1 of the model\n",
      "\n",
      "Accuracy                  :  0.9\n",
      "Macro-average F1-score    :  0.8409022556390978\n",
      "Weighted-average F1-score :  0.8910977443609024\n"
     ]
    }
   ],
   "source": [
    "def save(y_true, y_pred, title,gridsearch=None):\n",
    "    header = '\\n\\n\\n---------------- '+title+' ----------------\\n'\n",
    "    if gridsearch:\n",
    "        header += '\\t\\tBest parameters found by GridSearchCv :\\n'\n",
    "        for cat,val in gridsearch.items():\n",
    "            header += cat+': '+str(val)+' ; '\n",
    "        header+='\\n'\n",
    "    print(header)\n",
    "    \n",
    "    questb = \"\\nb) Confusion matrix\\n\"\n",
    "    print(questb)\n",
    "    Lcl = ['drA','drB','drC','drX','drY',]\n",
    "    cm = confusion_matrix(y_true, y_pred)\n",
    "    cm_f = 'axis : x-> Predicted labels; y-> True labels\\n\\n'\n",
    "    cm_f+= '|drA|drB|drC|drX|drY|\\n'\n",
    "    cm_f+= '---------------------\\n'\n",
    "    for i in range(cm.shape[0]):\n",
    "        cm_f += '|{:<3s}|{:<3s}|{:<3s}|{:<3s}|{:<3s}|{:<3}\\n'.format(str(cm[i,0]),str(cm[i,1]),str(cm[i,2]),str(cm[i,3]),str(cm[i,4]),Lcl[i])\n",
    "    print(cm_f)\n",
    "    questb += cm_f\n",
    "     \n",
    "    questc = \"\\nc) Precision, recall, and F1-measure\\n\"\n",
    "    print(questc)\n",
    "    report = classification_report(y_true, y_pred,output_dict=True)\n",
    "    rep = \"             | precision |  recall  | f1-score |\\n\"\n",
    "    for c in classes:\n",
    "        rep+=\"{:<13s}|{:<11.8s}|{:<10.8s}|{:<10.8s}|\\n\".format(c,str(report[c]['precision']),str(report[c]['recall']),str(report[c]['f1-score']))\n",
    "    print(rep)\n",
    "    questc+=\"\\n\"+rep\n",
    "    \n",
    "    questd = \"\\n\\nd) Accuracy, macro-average F1 and weighted-average F1 of the model\\n\"\n",
    "    print(questd)\n",
    "    acc = accuracy_score(y_true, y_pred)\n",
    "    print('Accuracy                  : ',acc)\n",
    "    questd += f\"Accuracy                  : {acc}\\n\"\n",
    "    \n",
    "    f1_sc_mac = f1_score(y_true, y_pred, average='macro')\n",
    "    print('Macro-average F1-score    : ', f1_sc_mac)\n",
    "    questd += f\"Macro-average F1-score    : {f1_sc_mac}\\n\"\n",
    "    \n",
    "    f1_sc_wei = f1_score(y_true, y_pred, average='weighted')\n",
    "    print('Weighted-average F1-score : ',f1_sc_wei)\n",
    "    questd += f\"Weighted-average F1-score : {f1_sc_wei}\\n\\n\"\n",
    "    \n",
    "    string = header\n",
    "    string+= questb\n",
    "    string+= questc\n",
    "    string+= questd\n",
    "    \n",
    "    return string\n",
    "    \n",
    "\n",
    "\n",
    "string = save(Y_test,Y_top_mlp_pred,'Top Multi Layer Perceptron classifier',top_mlp_class.best_params_)\n",
    "#save(Y_test,Y_base_dt_pred,'Top Multi Layer Perceptron classifier',top_mlp_class.best_params_)"
   ]
  },
  {
   "cell_type": "code",
   "execution_count": 25,
   "id": "1cd9f790",
   "metadata": {},
   "outputs": [
    {
     "name": "stdout",
     "output_type": "stream",
     "text": [
      "\n",
      "\n",
      "\n",
      "---------------- Gaussian Naive Bayes Classifier ----------------\n",
      "\n",
      "\n",
      "b) Confusion matrix\n",
      "\n",
      "axis : x-> Predicted labels; y-> True labels\n",
      "\n",
      "|drA|drB|drC|drX|drY|\n",
      "---------------------\n",
      "|3  |1  |0  |0  |4  |drA\n",
      "|2  |5  |0  |0  |0  |drB\n",
      "|0  |0  |1  |2  |1  |drC\n",
      "|0  |0  |0  |6  |3  |drX\n",
      "|1  |0  |0  |3  |18 |drY\n",
      "\n",
      "\n",
      "c) Precision, recall, and F1-measure\n",
      "\n",
      "             | precision |  recall  | f1-score |\n",
      "drugA        |0.5        |0.375     |0.428571  |\n",
      "drugB        |0.833333   |0.714285  |0.769230  |\n",
      "drugC        |1.0        |0.25      |0.4       |\n",
      "drugX        |0.545454   |0.666666  |0.6       |\n",
      "drugY        |0.692307   |0.818181  |0.750000  |\n",
      "\n",
      "\n",
      "\n",
      "d) Accuracy, macro-average F1 and weighted-average F1 of the model\n",
      "\n",
      "Accuracy                  :  0.66\n",
      "Macro-average F1-score    :  0.5895604395604396\n",
      "Weighted-average F1-score :  0.6462637362637363\n",
      "\n",
      "\n",
      "\n",
      "---------------- Decision tree Classifier ----------------\n",
      "\n",
      "\n",
      "b) Confusion matrix\n",
      "\n",
      "axis : x-> Predicted labels; y-> True labels\n",
      "\n",
      "|drA|drB|drC|drX|drY|\n",
      "---------------------\n",
      "|8  |0  |0  |0  |0  |drA\n",
      "|0  |7  |0  |0  |0  |drB\n",
      "|0  |0  |4  |0  |0  |drC\n",
      "|0  |0  |0  |9  |0  |drX\n",
      "|0  |0  |0  |0  |22 |drY\n",
      "\n",
      "\n",
      "c) Precision, recall, and F1-measure\n",
      "\n",
      "             | precision |  recall  | f1-score |\n",
      "drugA        |1.0        |1.0       |1.0       |\n",
      "drugB        |1.0        |1.0       |1.0       |\n",
      "drugC        |1.0        |1.0       |1.0       |\n",
      "drugX        |1.0        |1.0       |1.0       |\n",
      "drugY        |1.0        |1.0       |1.0       |\n",
      "\n",
      "\n",
      "\n",
      "d) Accuracy, macro-average F1 and weighted-average F1 of the model\n",
      "\n",
      "Accuracy                  :  1.0\n",
      "Macro-average F1-score    :  1.0\n",
      "Weighted-average F1-score :  1.0\n",
      "\n",
      "\n",
      "\n",
      "---------------- Top Decision tree Classifier ----------------\n",
      "\t\tBest parameters found by GridSearchCv :\n",
      "criterion: gini ; max_depth: 4 ; min_samples_split: 2 ; \n",
      "\n",
      "\n",
      "b) Confusion matrix\n",
      "\n",
      "axis : x-> Predicted labels; y-> True labels\n",
      "\n",
      "|drA|drB|drC|drX|drY|\n",
      "---------------------\n",
      "|8  |0  |0  |0  |0  |drA\n",
      "|0  |7  |0  |0  |0  |drB\n",
      "|0  |0  |4  |0  |0  |drC\n",
      "|0  |0  |0  |9  |0  |drX\n",
      "|0  |0  |0  |0  |22 |drY\n",
      "\n",
      "\n",
      "c) Precision, recall, and F1-measure\n",
      "\n",
      "             | precision |  recall  | f1-score |\n",
      "drugA        |1.0        |1.0       |1.0       |\n",
      "drugB        |1.0        |1.0       |1.0       |\n",
      "drugC        |1.0        |1.0       |1.0       |\n",
      "drugX        |1.0        |1.0       |1.0       |\n",
      "drugY        |1.0        |1.0       |1.0       |\n",
      "\n",
      "\n",
      "\n",
      "d) Accuracy, macro-average F1 and weighted-average F1 of the model\n",
      "\n",
      "Accuracy                  :  1.0\n",
      "Macro-average F1-score    :  1.0\n",
      "Weighted-average F1-score :  1.0\n",
      "\n",
      "\n",
      "\n",
      "---------------- Perceptron Classifier ----------------\n",
      "\n",
      "\n",
      "b) Confusion matrix\n",
      "\n",
      "axis : x-> Predicted labels; y-> True labels\n",
      "\n",
      "|drA|drB|drC|drX|drY|\n",
      "---------------------\n",
      "|0  |0  |0  |6  |2  |drA\n",
      "|0  |0  |0  |7  |0  |drB\n",
      "|0  |0  |0  |4  |0  |drC\n",
      "|0  |0  |0  |7  |2  |drX\n",
      "|0  |0  |0  |9  |13 |drY\n",
      "\n",
      "\n",
      "c) Precision, recall, and F1-measure\n",
      "\n",
      "             | precision |  recall  | f1-score |\n",
      "drugA        |0.0        |0.0       |0.0       |\n",
      "drugB        |0.0        |0.0       |0.0       |\n",
      "drugC        |0.0        |0.0       |0.0       |\n",
      "drugX        |0.212121   |0.777777  |0.333333  |\n",
      "drugY        |0.764705   |0.590909  |0.666666  |\n",
      "\n",
      "\n",
      "\n",
      "d) Accuracy, macro-average F1 and weighted-average F1 of the model\n",
      "\n",
      "Accuracy                  :  0.4\n",
      "Macro-average F1-score    :  0.2\n",
      "Weighted-average F1-score :  0.35333333333333333\n",
      "\n",
      "\n",
      "\n",
      "---------------- Multi Layer Perceptron Classifier ----------------\n",
      "\n",
      "\n",
      "b) Confusion matrix\n",
      "\n",
      "axis : x-> Predicted labels; y-> True labels\n",
      "\n",
      "|drA|drB|drC|drX|drY|\n",
      "---------------------\n",
      "|0  |0  |0  |1  |7  |drA\n",
      "|0  |0  |0  |7  |0  |drB\n",
      "|0  |0  |0  |2  |2  |drC\n",
      "|0  |0  |0  |5  |4  |drX\n",
      "|0  |0  |0  |1  |21 |drY\n",
      "\n",
      "\n",
      "c) Precision, recall, and F1-measure\n",
      "\n",
      "             | precision |  recall  | f1-score |\n",
      "drugA        |0.0        |0.0       |0.0       |\n",
      "drugB        |0.0        |0.0       |0.0       |\n",
      "drugC        |0.0        |0.0       |0.0       |\n",
      "drugX        |0.3125     |0.555555  |0.399999  |\n",
      "drugY        |0.617647   |0.954545  |0.75      |\n",
      "\n",
      "\n",
      "\n",
      "d) Accuracy, macro-average F1 and weighted-average F1 of the model\n",
      "\n",
      "Accuracy                  :  0.52\n",
      "Macro-average F1-score    :  0.22999999999999998\n",
      "Weighted-average F1-score :  0.402\n",
      "\n",
      "\n",
      "\n",
      "---------------- Top Multi Layer Perceptron classifier ----------------\n",
      "\t\tBest parameters found by GridSearchCv :\n",
      "activation: tanh ; hidden_layer_sizes: (30, 50) ; solver: adam ; \n",
      "\n",
      "\n",
      "b) Confusion matrix\n",
      "\n",
      "axis : x-> Predicted labels; y-> True labels\n",
      "\n",
      "|drA|drB|drC|drX|drY|\n",
      "---------------------\n",
      "|8  |0  |0  |0  |0  |drA\n",
      "|4  |3  |0  |0  |0  |drB\n",
      "|0  |0  |3  |1  |0  |drC\n",
      "|0  |0  |0  |9  |0  |drX\n",
      "|0  |0  |0  |0  |22 |drY\n",
      "\n",
      "\n",
      "c) Precision, recall, and F1-measure\n",
      "\n",
      "             | precision |  recall  | f1-score |\n",
      "drugA        |0.666666   |1.0       |0.8       |\n",
      "drugB        |1.0        |0.428571  |0.6       |\n",
      "drugC        |1.0        |0.75      |0.857142  |\n",
      "drugX        |0.9        |1.0       |0.947368  |\n",
      "drugY        |1.0        |1.0       |1.0       |\n",
      "\n",
      "\n",
      "\n",
      "d) Accuracy, macro-average F1 and weighted-average F1 of the model\n",
      "\n",
      "Accuracy                  :  0.9\n",
      "Macro-average F1-score    :  0.8409022556390978\n",
      "Weighted-average F1-score :  0.8910977443609024\n"
     ]
    }
   ],
   "source": [
    "nb_str = save(Y_test,Y_nb_pred,'Gaussian Naive Bayes Classifier')\n",
    "base_dt_str = save(Y_test,Y_base_dt_pred,'Decision tree Classifier')\n",
    "top_dt_str = save(Y_test,Y_top_dt_pred,'Top Decision tree Classifier', top_dt_class.best_params_)\n",
    "per_str = save(Y_test,Y_per_pred,'Perceptron Classifier')\n",
    "base_mlp_str = save(Y_test,Y_mlp_pred,'Multi Layer Perceptron Classifier')\n",
    "top_mlp_str = save(Y_test,Y_top_mlp_pred,'Top Multi Layer Perceptron classifier',top_mlp_class.best_params_)"
   ]
  },
  {
   "cell_type": "code",
   "execution_count": 26,
   "id": "db68e831",
   "metadata": {},
   "outputs": [],
   "source": [
    "f = open(\"drug-performance.txt\", \"w\")\n",
    "f.write(nb_str)\n",
    "f.write(base_dt_str)\n",
    "f.write(top_dt_str)\n",
    "f.write(per_str)\n",
    "f.write(base_mlp_str)\n",
    "f.write(top_mlp_str)\n",
    "f.close()"
   ]
  },
  {
   "cell_type": "markdown",
   "id": "881d3380",
   "metadata": {},
   "source": [
    "### Question 8"
   ]
  },
  {
   "cell_type": "code",
   "execution_count": 27,
   "id": "b692ab06",
   "metadata": {
    "scrolled": false
   },
   "outputs": [],
   "source": [
    "metrics = ['accuracy','macro-average F1','weighted-average F1']\n",
    "models = ['nb','base_dt','top_dt','per','base_mlp','top_mlp']\n",
    "dict_perforamances = {met:{mod:[] for mod in models} for met in metrics}\n",
    "\n",
    "\n",
    "parameters_dt = {\n",
    "    'criterion': ['gini', 'entropy'],\n",
    "    'max_depth': [4,8],\n",
    "    'min_samples_split': [1,2,3],\n",
    "}\n",
    "\n",
    "parameters_mlp = {\n",
    "    'activation': ['logistic', 'tanh', 'relu', 'identity'],\n",
    "    'hidden_layer_sizes': [(30,50),(10,10,10)],\n",
    "    'solver': ['adam', 'sgd'],\n",
    "}\n",
    "\n",
    "L_models = [MultinomialNB(),\n",
    "            DecisionTreeClassifier(),\n",
    "            GridSearchCV(DecisionTreeClassifier(),param_grid=parameters_dt),\n",
    "            Perceptron(),\n",
    "            MLPClassifier(activation = 'logistic', solver='sgd'),\n",
    "            GridSearchCV(MLPClassifier(), param_grid=parameters_mlp)]\n",
    "\n",
    "for idx, model in enumerate(L_models):\n",
    "    for i in range(10):\n",
    "        clf = model\n",
    "        clf.fit(X_train, Y_train)\n",
    "        Y_pred = clf.predict(X_test)\n",
    "        acc = accuracy_score(Y_test, Y_pred)\n",
    "        f1_sc_mac = f1_score(Y_test, Y_pred, average='macro')\n",
    "        f1_sc_wei = f1_score(Y_test, Y_pred, average='weighted')\n",
    "        dict_perforamances['accuracy'][models[idx]].append(acc)\n",
    "        dict_perforamances['macro-average F1'][models[idx]].append(f1_sc_mac)\n",
    "        dict_perforamances['weighted-average F1'][models[idx]].append(f1_sc_wei)\n",
    "                                               \n",
    "\n",
    "    \n",
    "    "
   ]
  },
  {
   "cell_type": "code",
   "execution_count": 28,
   "id": "5aa65793",
   "metadata": {},
   "outputs": [],
   "source": [
    "def standard_deviation(l):\n",
    "    mean = sum(l)/len(l)\n",
    "    s = 0 \n",
    "    for v in l:\n",
    "        s+=(v-mean)**2\n",
    "    std_dev = np.sqrt((1/len(l))*s)\n",
    "    return std_dev"
   ]
  },
  {
   "cell_type": "code",
   "execution_count": 29,
   "id": "de5b5a80",
   "metadata": {},
   "outputs": [
    {
     "name": "stdout",
     "output_type": "stream",
     "text": [
      "\n",
      "\n",
      "\n",
      "Average accuracy, macro-average F1 score and weighted-average F1 score on 10 different runs\n",
      "\n",
      "        | accuracy | mac-avg F1 | wgh-avg F1 |\n",
      "nb      |0.66      |0.589560    |0.646263    |\n",
      "base_dt |1.0       |1.0         |1.0         |\n",
      "top_dt  |1.0       |1.0         |1.0         |\n",
      "per     |0.399999  |0.199999    |0.353333    |\n",
      "base_mlp|0.518     |0.228261    |0.401879    |\n",
      "top_mlp |0.880000  |0.840591    |0.867487    |\n",
      "\n",
      "\n",
      "\n",
      "Standard deviation accuracy, macro-average F1 score and weighted-average F1 score on 10 different runs\n",
      "\n",
      "        | accuracy | mac-avg F1 | wgh-avg F1 |\n",
      "nb      |0.0       |1.110223    |0.0         |\n",
      "base_dt |0.0       |0.0         |0.0         |\n",
      "top_dt  |0.0       |0.0         |0.0         |\n",
      "per     |5.551115  |2.775557    |5.551115    |\n",
      "base_mlp|0.006000  |0.004745    |0.006285    |\n",
      "top_mlp |0.054405  |0.111439    |0.067544    |\n",
      "\n"
     ]
    }
   ],
   "source": [
    "dict_average = {met:{mod:(sum(dict_perforamances[met][mod])/10) for mod in models} for met in metrics}\n",
    "avg = \"\\n\\n\\nAverage accuracy, macro-average F1 score and weighted-average F1 score on 10 different runs\\n\\n\"\n",
    "avg += \"        | accuracy | mac-avg F1 | wgh-avg F1 |\\n\"\n",
    "for m in models:\n",
    "    avg+=\"{:<8s}|{:<10.8s}|{:<12.8s}|{:<12.8s}|\\n\".format(m,str(dict_average['accuracy'][m]),str(dict_average['macro-average F1'][m]),str(dict_average['weighted-average F1'][m]))\n",
    "print(avg)\n",
    "\n",
    "\n",
    "dict_std_dev = {met:{mod:(standard_deviation(dict_perforamances[met][mod])) for mod in models} for met in metrics}\n",
    "dev = \"\\n\\nStandard deviation accuracy, macro-average F1 score and weighted-average F1 score on 10 different runs\\n\\n\"\n",
    "dev += \"        | accuracy | mac-avg F1 | wgh-avg F1 |\\n\"\n",
    "for m in models:\n",
    "    dev+=\"{:<8s}|{:<10.8s}|{:<12.8s}|{:<12.8s}|\\n\".format(m,str(dict_std_dev['accuracy'][m]),str(dict_std_dev['macro-average F1'][m]),str(dict_std_dev['weighted-average F1'][m]))\n",
    "print(dev)\n",
    "\n",
    "f = open(\"drug-performance.txt\", \"a\")\n",
    "f.write(avg)\n",
    "f.write(dev)\n",
    "f.close()"
   ]
  }
 ],
 "metadata": {
  "kernelspec": {
   "display_name": "Python 3",
   "language": "python",
   "name": "python3"
  },
  "language_info": {
   "codemirror_mode": {
    "name": "ipython",
    "version": 3
   },
   "file_extension": ".py",
   "mimetype": "text/x-python",
   "name": "python",
   "nbconvert_exporter": "python",
   "pygments_lexer": "ipython3",
   "version": "3.8.10"
  }
 },
 "nbformat": 4,
 "nbformat_minor": 5
}
