{
 "cells": [
  {
   "cell_type": "markdown",
   "id": "8c5c8798",
   "metadata": {},
   "source": [
    "# COMP 432 - Artificial Intelligence\n",
    "# Assigment 1\n",
    "\n",
    "## Task 1 : Text Classification"
   ]
  },
  {
   "cell_type": "code",
   "execution_count": 1,
   "id": "b933b5a7",
   "metadata": {},
   "outputs": [],
   "source": [
    "import numpy as np\n",
    "import matplotlib.pyplot as plt\n",
    "import pandas as pd\n",
    "import os\n",
    "import seaborn as sns\n",
    "\n",
    "from sklearn.datasets import load_files\n",
    "from sklearn.feature_extraction.text import CountVectorizer\n",
    "from sklearn.model_selection import train_test_split\n",
    "from sklearn.naive_bayes import MultinomialNB\n",
    "from sklearn.metrics import confusion_matrix, classification_report, accuracy_score, f1_score\n"
   ]
  },
  {
   "cell_type": "markdown",
   "id": "3a622c15",
   "metadata": {},
   "source": [
    "### Question 1"
   ]
  },
  {
   "cell_type": "code",
   "execution_count": 2,
   "id": "04fd3c1d",
   "metadata": {},
   "outputs": [],
   "source": [
    "classes = ['business','entertainment','politics','sport','tech']\n",
    "distrib = {}"
   ]
  },
  {
   "cell_type": "code",
   "execution_count": 3,
   "id": "b57d8818",
   "metadata": {},
   "outputs": [],
   "source": [
    "os.chdir('BBC')\n",
    "for clas in classes:\n",
    "    os.chdir(clas)\n",
    "    distrib[clas] = len(os.listdir())\n",
    "    os.chdir(\"..\")\n",
    "os.chdir(\"..\")"
   ]
  },
  {
   "cell_type": "code",
   "execution_count": 4,
   "id": "2e40a8c8",
   "metadata": {},
   "outputs": [
    {
     "data": {
      "text/plain": [
       "{'business': 510,\n",
       " 'entertainment': 386,\n",
       " 'politics': 417,\n",
       " 'sport': 511,\n",
       " 'tech': 401}"
      ]
     },
     "execution_count": 4,
     "metadata": {},
     "output_type": "execute_result"
    }
   ],
   "source": [
    "distrib"
   ]
  },
  {
   "cell_type": "markdown",
   "id": "18a1aab1",
   "metadata": {},
   "source": [
    "### Question 2"
   ]
  },
  {
   "cell_type": "code",
   "execution_count": 5,
   "id": "770b7adf",
   "metadata": {
    "scrolled": true
   },
   "outputs": [
    {
     "data": {
      "image/png": "[encoded data removed]",
      "text/plain": [
       "<Figure size 432x288 with 1 Axes>"
      ]
     },
     "metadata": {
      "needs_background": "light"
     },
     "output_type": "display_data"
    }
   ],
   "source": [
    "t = np.arange(len(distrib))\n",
    "plt.bar(t,distrib.values(),align='center')\n",
    "plt.xticks(t,list(distrib.keys()))\n",
    "for index,data in enumerate(list(distrib.values())):\n",
    "    plt.text(x=index , y =data+1 , s=f\"{data}\" , fontdict=dict(fontsize=10))\n",
    "plt.title('distribution of the instances of topics in each class')\n",
    "plt.ylabel('# of instances')\n",
    "plt.savefig('bbc-distribution.pdf')\n",
    "plt.show()"
   ]
  },
  {
   "cell_type": "markdown",
   "id": "4bd4768b",
   "metadata": {},
   "source": [
    "### Question 3"
   ]
  },
  {
   "cell_type": "code",
   "execution_count": 6,
   "id": "f01fb8ce",
   "metadata": {},
   "outputs": [
    {
     "name": "stdout",
     "output_type": "stream",
     "text": [
      "dict_keys(['data', 'filenames', 'target_names', 'target', 'DESCR'])\n"
     ]
    }
   ],
   "source": [
    "files = load_files('BBC',categories = classes,encoding=\"latin1\")\n",
    "print(files.keys())\n",
    "# print(files['data']) # list containing the content of every files\n",
    "# print(files['filenames']) #list containing the path of every files\n",
    "# print(files['target_names']) #list of the 5 categories\n",
    "# print(files['target']) # list of categories of every files (second file is tech -> files['target'][1]=4)\n",
    "# print(files['DESCR']) #description of dataset\n",
    "# print(files['data'][np.random.randint(0,len(files['data']))])"
   ]
  },
  {
   "cell_type": "markdown",
   "id": "259ae514",
   "metadata": {},
   "source": [
    "### Question 4"
   ]
  },
  {
   "cell_type": "code",
   "execution_count": 7,
   "id": "76f3a4b5",
   "metadata": {},
   "outputs": [
    {
     "name": "stderr",
     "output_type": "stream",
     "text": [
      "IOPub data rate exceeded.\n",
      "The notebook server will temporarily stop sending output\n",
      "to the client in order to avoid crashing it.\n",
      "To change this limit, set the config variable\n",
      "`--NotebookApp.iopub_data_rate_limit`.\n",
      "\n",
      "Current values:\n",
      "NotebookApp.iopub_data_rate_limit=1000000.0 (bytes/sec)\n",
      "NotebookApp.rate_limit_window=3.0 (secs)\n",
      "\n"
     ]
    },
    {
     "name": "stdout",
     "output_type": "stream",
     "text": [
      "(2225, 29421)\n",
      "29421\n"
     ]
    }
   ],
   "source": [
    "vectorizer = CountVectorizer(files, encoding='latin1') #object who will count the words\n",
    "#print(vectorizer)\n",
    "X = vectorizer.fit_transform(files['data']) #matrix col->file, row->word, value-># of occurence of the word j in the file #i\n",
    "ft = vectorizer.get_feature_names() # get the list of all the words found in the files\n",
    "print(X.shape)\n",
    "print(len(ft))"
   ]
  },
  {
   "cell_type": "code",
   "execution_count": 8,
   "id": "d0df5ea2",
   "metadata": {},
   "outputs": [
    {
     "name": "stdout",
     "output_type": "stream",
     "text": [
      "(2225, 29421)\n",
      "18936\n"
     ]
    }
   ],
   "source": [
    "print(X.shape) \n",
    "print(vectorizer.vocabulary_.get('or')) #get the # of occurence of a word in all the files"
   ]
  },
  {
   "cell_type": "markdown",
   "id": "c02baa60",
   "metadata": {},
   "source": [
    "### Question 5"
   ]
  },
  {
   "cell_type": "code",
   "execution_count": 9,
   "id": "4bc37f10",
   "metadata": {},
   "outputs": [],
   "source": [
    "Y = files['target']\n",
    "X_train, X_test, Y_train, Y_test = train_test_split(X, Y, test_size=0.20, random_state=0)"
   ]
  },
  {
   "cell_type": "code",
   "execution_count": 10,
   "id": "3de87d9d",
   "metadata": {},
   "outputs": [
    {
     "name": "stdout",
     "output_type": "stream",
     "text": [
      "(1780, 29421)\n",
      "(1780,)\n",
      "78\n"
     ]
    }
   ],
   "source": [
    "print(X_train.shape)\n",
    "print(Y_train.shape)\n",
    "print(np.count_nonzero(Y_test==4))"
   ]
  },
  {
   "cell_type": "code",
   "execution_count": 11,
   "id": "97198b23",
   "metadata": {},
   "outputs": [
    {
     "name": "stdout",
     "output_type": "stream",
     "text": [
      "417\n"
     ]
    }
   ],
   "source": [
    "i = 0\n",
    "for name in files['filenames']:\n",
    "    if 'politics' in name:\n",
    "        i += 1\n",
    "print(i)"
   ]
  },
  {
   "cell_type": "markdown",
   "id": "41b08ad7",
   "metadata": {},
   "source": [
    "### Question 6"
   ]
  },
  {
   "cell_type": "code",
   "execution_count": 12,
   "id": "7cc65119",
   "metadata": {},
   "outputs": [
    {
     "data": {
      "text/plain": [
       "MultinomialNB()"
      ]
     },
     "execution_count": 12,
     "metadata": {},
     "output_type": "execute_result"
    }
   ],
   "source": [
    "mnb_class_1 = MultinomialNB()\n",
    "mnb_class_1.fit(X_train, Y_train)"
   ]
  },
  {
   "cell_type": "code",
   "execution_count": 13,
   "id": "409ced5a",
   "metadata": {},
   "outputs": [
    {
     "name": "stdout",
     "output_type": "stream",
     "text": [
      "accuracy multinomial Naive Bayes Classifier : 96.629213%\n"
     ]
    }
   ],
   "source": [
    "Y_tpred1 = mnb_class_1.predict(X_test)\n",
    "score_mnb = mnb_class_1.score(X_test, Y_test)\n",
    "print('accuracy multinomial Naive Bayes Classifier : {:f}%'.format(score_mnb*100))"
   ]
  },
  {
   "cell_type": "markdown",
   "id": "d1887122",
   "metadata": {},
   "source": [
    "### Question 7"
   ]
  },
  {
   "cell_type": "code",
   "execution_count": 14,
   "id": "7ab4cbac",
   "metadata": {},
   "outputs": [
    {
     "name": "stdout",
     "output_type": "stream",
     "text": [
      "['business', 'entertainment', 'politics', 'sport', 'tech']\n"
     ]
    },
    {
     "data": {
      "text/plain": [
       "[Text(0, 0.5, 'business'),\n",
       " Text(0, 1.5, 'entertainment'),\n",
       " Text(0, 2.5, 'politics'),\n",
       " Text(0, 3.5, 'sport'),\n",
       " Text(0, 4.5, 'tech')]"
      ]
     },
     "execution_count": 14,
     "metadata": {},
     "output_type": "execute_result"
    },
    {
     "data": {
      "image/png": "[encoded data removed]",
      "text/plain": [
       "<Figure size 432x288 with 2 Axes>"
      ]
     },
     "metadata": {
      "needs_background": "light"
     },
     "output_type": "display_data"
    }
   ],
   "source": [
    "#https://stackoverflow.com/questions/19233771/sklearn-plot-confusion-matrix-with-labels #for the plot of the confusion matrix\n",
    "\n",
    "print(files['target_names'])\n",
    "#print(Y_test)\n",
    "cm_y_true = [files['target_names'][Y_test[i]] for i in range(Y_test.shape[0])]\n",
    "cm_y_pred1 = [files['target_names'][Y_tpred1[i]] for i in range(Y_test.shape[0])] #list of pred with name of categories instead of number\n",
    "    \n",
    "cm = confusion_matrix(cm_y_true,cm_y_pred1)\n",
    "ax= plt.subplot()\n",
    "sns.heatmap(cm, annot=True, fmt='g', ax=ax);  #annot=True to annotate cells, ftm='g' to disable scientific notation\n",
    "\n",
    "# labels, title and ticks\n",
    "ax.set_xlabel('Predicted labels')\n",
    "ax.set_ylabel('True labels')\n",
    "ax.set_title('Confusion Matrix')\n",
    "ax.xaxis.set_ticklabels(classes)\n",
    "ax.yaxis.set_ticklabels(classes)\n"
   ]
  },
  {
   "cell_type": "code",
   "execution_count": 15,
   "id": "a39a36e3",
   "metadata": {},
   "outputs": [],
   "source": [
    "# report = classification_report(cm_y_true,cm_y_pred1)\n",
    "# print(report)\n",
    "# acc = accuracy_score(cm_y_true,cm_y_pred1)\n",
    "# print(acc)\n",
    "\n",
    "# f1_sc = f1_score(cm_y_true,cm_y_pred1, average=None)\n",
    "# print(f1_sc)"
   ]
  },
  {
   "cell_type": "code",
   "execution_count": 16,
   "id": "4ccd7194",
   "metadata": {},
   "outputs": [],
   "source": [
    "# report = classification_report(cm_y_true, cm_y_pred1,output_dict=True)\n",
    "# print(report['business']['f1-score'])"
   ]
  },
  {
   "cell_type": "code",
   "execution_count": 17,
   "id": "e7cd510f",
   "metadata": {
    "scrolled": true
   },
   "outputs": [
    {
     "name": "stdout",
     "output_type": "stream",
     "text": [
      "\n",
      "\n",
      "\n",
      "-------------- multinomial Naive Bayes Classifier, first try --------------\n",
      "\n",
      "\n",
      "b) Confusion matrix\n",
      "\n",
      "axis : x-> Predicted labels; y-> True labels\n",
      "\n",
      "|bus|ent|pol|spo|tec|\n",
      "---------------------\n",
      "|96 |0  |2  |0  |4  |bus\n",
      "|2  |79 |1  |0  |2  |ent\n",
      "|1  |1  |76 |0  |0  |pol\n",
      "|1  |0  |0  |102|0  |spo\n",
      "|0  |1  |0  |0  |77 |tec\n",
      "\n",
      "\n",
      "c) Precision, recall, and F1-measure\n",
      "\n",
      "             | precision |  recall  | f1-score |\n",
      "business     |0.96       |0.941176  |0.950495  |\n",
      "entertainment|0.975308   |0.940476  |0.957575  |\n",
      "politics     |0.962025   |0.974358  |0.968152  |\n",
      "sport        |1.0        |0.990291  |0.995121  |\n",
      "tech         |0.927710   |0.987179  |0.956521  |\n",
      "\n",
      "\n",
      "\n",
      "d) Accuracy, macro-average F1 and weighted-average F1 of the model\n",
      "\n",
      "Accuracy                  :  0.9662921348314607\n",
      "Macro-average F1-score    :  0.9655734727345386\n",
      "Weighted-average F1-score :  0.966312446922542\n",
      "\n",
      "\n",
      "e) Prior probability\n",
      "\n",
      "business     :0.2292134831460674\n",
      "entertainment:0.18876404494382024\n",
      "politics     :0.1752808988764045\n",
      "sport        :0.23146067415730337\n",
      "tech         :0.1752808988764045\n",
      "\n",
      "\n",
      "f) Size of the vocabulary\n",
      "\n",
      "Size of vocabulary :  29421\n",
      "\n",
      "\n",
      "g) Number of word-tokens in each class\n",
      "\n",
      "business     :164663\n",
      "entertainment:124893\n",
      "politics     :185208\n",
      "sport        :162953\n",
      "tech         :198640\n",
      "\n",
      "\n",
      "h) Number of word-tokens in the entire corpus\n",
      "\n",
      "Total number of word in the entire corpus :  836357\n",
      "\n",
      "\n",
      "i) Number and percentage of words with a frequency of zero in each class\n",
      "\n",
      "\n",
      "|  bus  |  ent  |  pol  |  spo  |  tec  |\n",
      "----------------------------------------\n",
      "|164663 |124893 |185208 |162953 |198640 |Number of word in class\n",
      "|17538  |17746  |18201  |18850  |17323  |Number of word with a frequency of zero in each class\n",
      "|10.650%|14.208%|9.8273%|11.567%|8.7208%|Percentage of word with a frequency of zero\n",
      "\n",
      "\n",
      "j) Number and percentage of words with a frequency of one in the entire corpus\n",
      "\n",
      "Number of word appearing one time in the entire corpus :  10975\n",
      "Percentage of word appearing one time in the entire corpus :  37.303286767954866\n",
      "\n",
      "\n",
      "k) 2 favorite words\n",
      "word n°1 : 'artificial'-> 2853 occurences (log_prob:-5.680684483193309)\n",
      "word n°2 : 'intelligence'-> 14232 occurences (log_prob:-4.073562605061138)\n",
      "\n"
     ]
    }
   ],
   "source": [
    "def save(X, y_true, y_pred, title, vectorizer,words):\n",
    "    header = \"\\n\\n\\n-------------- \"+title+\" --------------\\n\"\n",
    "    print(header)\n",
    "    questb = '\\nb) Confusion matrix\\n'\n",
    "    print(questb)\n",
    "    Lcl = ['bus','ent','pol','spo','tec',]\n",
    "    cm = confusion_matrix(y_true, y_pred)\n",
    "\n",
    "    cm_f = \"axis : x-> Predicted labels; y-> True labels\\n\\n\"\n",
    "    cm_f+= \"|bus|ent|pol|spo|tec|\\n\"\n",
    "    cm_f+= \"---------------------\\n\"\n",
    "    for i in range(cm.shape[0]):\n",
    "        cm_f += \"|{:<3s}|{:<3s}|{:<3s}|{:<3s}|{:<3s}|{:<3s}\\n\".format(str(cm[i,0]),str(cm[i,1]),str(cm[i,2]),str(cm[i,3]),str(cm[i,4]),Lcl[i])\n",
    "    print(cm_f)\n",
    "    questb+=cm_f\n",
    "    \n",
    "    questc = \"\\nc) Precision, recall, and F1-measure\\n\"\n",
    "    print(questc)\n",
    "    report = classification_report(y_true, y_pred,output_dict=True)\n",
    "    rep = \"             | precision |  recall  | f1-score |\\n\"\n",
    "    for c in classes:\n",
    "        rep+=\"{:<13s}|{:<11.8s}|{:<10.8s}|{:<10.8s}|\\n\".format(c,str(report[c]['precision']),str(report[c]['recall']),str(report[c]['f1-score']))\n",
    "    print(rep)\n",
    "    questc+=\"\\n\"+rep\n",
    "    \n",
    "    questd = \"\\n\\nd) Accuracy, macro-average F1 and weighted-average F1 of the model\\n\"\n",
    "    print(questd)\n",
    "    acc = accuracy_score(y_true, y_pred)\n",
    "    print('Accuracy                  : ',acc)\n",
    "    questd += f\"Accuracy                  : {acc}\\n\"\n",
    "    \n",
    "    f1_sc_mac = f1_score(y_true, y_pred, average='macro')\n",
    "    print('Macro-average F1-score    : ', f1_sc_mac)\n",
    "    questd += f\"Macro-average F1-score    : {f1_sc_mac}\\n\"\n",
    "    \n",
    "    f1_sc_wei = f1_score(y_true, y_pred, average='weighted')\n",
    "    print('Weighted-average F1-score : ',f1_sc_wei)\n",
    "    questd += f\"Weighted-average F1-score : {f1_sc_wei}\\n\"\n",
    "    \n",
    "    queste = \"\\n\\ne) Prior probability\\n\"\n",
    "    print(queste)\n",
    "    prior_proba = {c:y_true.count(c)/len(y_true) for c in classes}\n",
    "    pr_prob = \"\"\n",
    "    for c in classes : \n",
    "        pr_prob += \"{:<13s}:{:s}\\n\".format(c,str(prior_proba[c]))\n",
    "    print(pr_prob)\n",
    "    queste += pr_prob\n",
    "    \n",
    "    questf = \"\\nf) Size of the vocabulary\\n\"\n",
    "    print(questf)\n",
    "    size_voc = X.shape[1]\n",
    "    print('Size of vocabulary : ',size_voc)\n",
    "    questf += f\"Size of vocabulary : {size_voc}\"\n",
    "    \n",
    "    questg = \"\\n\\ng) Number of word-tokens in each class\\n\"\n",
    "    print(questg)\n",
    "    dict_num_word = {c:0 for c in classes}\n",
    "    for index,name in enumerate(files['filenames']):\n",
    "        for c in classes:\n",
    "            if c in name:\n",
    "                dict_num_word[c] += np.sum(X[index,:])\n",
    "    d_n_w = ''\n",
    "    for c in classes : \n",
    "        d_n_w += \"{:<13s}:{:s}\\n\".format(c,str(dict_num_word[c]))\n",
    "    print(d_n_w)\n",
    "    questg += d_n_w\n",
    "    \n",
    "    questh = \"\\nh) Number of word-tokens in the entire corpus\\n\"\n",
    "    print(questh)\n",
    "    nb_word = np.sum(X)\n",
    "    print('Total number of word in the entire corpus : ',nb_word)\n",
    "    questh += f\"Total number of word in the entire corpus : {nb_word}\"\n",
    "    \n",
    "    questi = \"\\n\\ni) Number and percentage of words with a frequency of zero in each class\\n\\n\"\n",
    "    print(questi)\n",
    "    dict_file_class = {c:np.zeros((distrib[c],X.shape[1])) for c in classes}\n",
    "    dict_index = {c:0 for c in classes}\n",
    "    for index,val in enumerate(files['target']):\n",
    "        dict_file_class[classes[val]][dict_index[classes[val]],:] = X[index,:].toarray()\n",
    "        dict_index[classes[val]] += 1\n",
    "    dict_occur_zero = {c:np.count_nonzero((np.all((dict_file_class[c] == 0), axis=0))) for c in classes}\n",
    "    #print(dict_occur_one)\n",
    "    dict_perc_zero = {c:(dict_occur_zero[c]/dict_num_word[c])*100 for c in classes}\n",
    "    #print(dict_perc_zero)\n",
    "    freq = \"|  bus  |  ent  |  pol  |  spo  |  tec  |\\n\"\n",
    "    freq+= \"----------------------------------------\\n\"\n",
    "    freq+= \"|{:<7s}|{:<7s}|{:<7s}|{:<7s}|{:<7s}|{}\\n\".format(str(dict_num_word['business']),str(dict_num_word['entertainment']),str(dict_num_word['politics']),str(dict_num_word['sport']),str(dict_num_word['tech']),'Number of word in class')\n",
    "    freq+= \"|{:<7s}|{:<7s}|{:<7s}|{:<7s}|{:<7s}|{}\\n\".format(str(dict_occur_zero['business']),str(dict_occur_zero['entertainment']),str(dict_occur_zero['politics']),str(dict_occur_zero['sport']),str(dict_occur_zero['tech']),'Number of word with a frequency of zero in each class')\n",
    "    freq+= \"|{:<6.6s}%|{:<6.6s}%|{:<6.6s}%|{:<6.6s}%|{:<6.6s}%|{}\\n\".format(str(dict_perc_zero['business']),str(dict_perc_zero['entertainment']),str(dict_perc_zero['politics']),str(dict_perc_zero['sport']),str(dict_perc_zero['tech']),'Percentage of word with a frequency of zero')\n",
    "    print(freq)\n",
    "    questi += freq\n",
    "    \n",
    "    questj = \"\\nj) Number and percentage of words with a frequency of one in the entire corpus\\n\"\n",
    "    print(questj)\n",
    "#     print(X.toarray() == 1) # True in the matrix represent words appearing only 1 time in a file\n",
    "#     print(np.count_nonzero(X.toarray() == 1,axis=0)) #count number of True in each columns\n",
    "    nb_occur_one = np.count_nonzero(np.count_nonzero(X.toarray() == 1,axis=0)==1) #return the number of column with only one True\n",
    "    nb_perc_one = (nb_occur_one/X.shape[1])*100\n",
    "    print('Number of word appearing one time in the entire corpus : ',nb_occur_one)\n",
    "    print('Percentage of word appearing one time in the entire corpus : ',nb_perc_one)\n",
    "    questj += f\"Number of word appearing one time in the entire corpus : {nb_occur_one}\\n\"\n",
    "    questj += f\"Percentage of word appearing one time in the entire corpus : {nb_perc_one}\"\n",
    "    \n",
    "    questk = \"\\n\\nk) 2 favorite words\"\n",
    "    print(questk)\n",
    "    dict_prob_word = {}\n",
    "    for word in words:\n",
    "        dict_prob_word[word] = (vectorizer.vocabulary_.get(word),vectorizer.vocabulary_.get(word)/nb_word)\n",
    "    \n",
    "\n",
    "    wor = ''\n",
    "    for index,word in enumerate(words):\n",
    "        wor+=\"word n°\"+str(index+1)+\" : '\"+word+\"'-> \"+str(dict_prob_word[word][0])+\" occurences (log_prob:\"+str(np.log(dict_prob_word[word][1]))+str(\")\\n\")\n",
    "    print(wor)\n",
    "    questk += \"\\n\"+wor\n",
    "    \n",
    "    string=\"\"\n",
    "    string+=header\n",
    "    string+=questb\n",
    "    string+=questc\n",
    "    string+=questd\n",
    "    string+=queste\n",
    "    string+=questf\n",
    "    string+=questg\n",
    "    string+=questh\n",
    "    string+=questi\n",
    "    string+=questj\n",
    "    string+=questk\n",
    "    string = string.replace(\"\\n\", \"\\n\")\n",
    "    return string\n",
    "\n",
    "    \n",
    "string = save(X,cm_y_true,cm_y_pred1,\"multinomial Naive Bayes Classifier, first try\",vectorizer,['artificial','intelligence'])"
   ]
  },
  {
   "cell_type": "markdown",
   "id": "b42b3fb4",
   "metadata": {},
   "source": [
    "### Question 8"
   ]
  },
  {
   "cell_type": "code",
   "execution_count": 18,
   "id": "5615e495",
   "metadata": {},
   "outputs": [
    {
     "data": {
      "text/plain": [
       "MultinomialNB()"
      ]
     },
     "execution_count": 18,
     "metadata": {},
     "output_type": "execute_result"
    }
   ],
   "source": [
    "mnb_class_2 = MultinomialNB()\n",
    "mnb_class_2.fit(X_train, Y_train)"
   ]
  },
  {
   "cell_type": "code",
   "execution_count": 19,
   "id": "5774b631",
   "metadata": {},
   "outputs": [
    {
     "name": "stdout",
     "output_type": "stream",
     "text": [
      "accuracy multinomial Naive Bayes Classifier, second try : 96.629213%\n"
     ]
    }
   ],
   "source": [
    "Y_tpred2 = mnb_class_2.predict(X_test)\n",
    "score_mnb = mnb_class_2.score(X_test, Y_test)\n",
    "print('accuracy multinomial Naive Bayes Classifier, second try : {:f}%'.format(score_mnb*100))"
   ]
  },
  {
   "cell_type": "code",
   "execution_count": 20,
   "id": "d4fed115",
   "metadata": {},
   "outputs": [],
   "source": [
    "cm_y_pred2 = [files['target_names'][Y_tpred2[i]] for i in range(Y_test.shape[0])]"
   ]
  },
  {
   "cell_type": "markdown",
   "id": "296d8c16",
   "metadata": {},
   "source": [
    "### Question 9"
   ]
  },
  {
   "cell_type": "code",
   "execution_count": 21,
   "id": "cad9ec9f",
   "metadata": {},
   "outputs": [
    {
     "data": {
      "text/plain": [
       "MultinomialNB(alpha=0.0001)"
      ]
     },
     "execution_count": 21,
     "metadata": {},
     "output_type": "execute_result"
    }
   ],
   "source": [
    "mnb_class_3 = MultinomialNB(alpha = 0.0001)\n",
    "mnb_class_3.fit(X_train, Y_train)"
   ]
  },
  {
   "cell_type": "code",
   "execution_count": 22,
   "id": "0512cc7f",
   "metadata": {},
   "outputs": [
    {
     "name": "stdout",
     "output_type": "stream",
     "text": [
      "accuracy multinomial Naive Bayes Classifier, smoothing value=0.0001 : 97.078652%\n"
     ]
    }
   ],
   "source": [
    "Y_tpred3 = mnb_class_3.predict(X_test)\n",
    "score_mnb = mnb_class_3.score(X_test, Y_test)\n",
    "print('accuracy multinomial Naive Bayes Classifier, smoothing value=0.0001 : {:f}%'.format(score_mnb*100))"
   ]
  },
  {
   "cell_type": "code",
   "execution_count": 23,
   "id": "0a2ad3c8",
   "metadata": {},
   "outputs": [],
   "source": [
    "cm_y_pred3 = [files['target_names'][Y_tpred3[i]] for i in range(Y_test.shape[0])]"
   ]
  },
  {
   "cell_type": "markdown",
   "id": "253d0cbc",
   "metadata": {},
   "source": [
    "### Question 10"
   ]
  },
  {
   "cell_type": "code",
   "execution_count": 24,
   "id": "f6736a23",
   "metadata": {},
   "outputs": [
    {
     "data": {
      "text/plain": [
       "MultinomialNB(alpha=0.9)"
      ]
     },
     "execution_count": 24,
     "metadata": {},
     "output_type": "execute_result"
    }
   ],
   "source": [
    "mnb_class_4 = MultinomialNB(alpha = 0.9)\n",
    "mnb_class_4.fit(X_train, Y_train)"
   ]
  },
  {
   "cell_type": "code",
   "execution_count": 25,
   "id": "466110a4",
   "metadata": {},
   "outputs": [
    {
     "name": "stdout",
     "output_type": "stream",
     "text": [
      "accuracy multinomial Naive Bayes Classifier, smoothing value=0.9 : 96.629213%\n"
     ]
    }
   ],
   "source": [
    "Y_tpred4 = mnb_class_4.predict(X_test)\n",
    "score_mnb = mnb_class_4.score(X_test, Y_test)\n",
    "print('accuracy multinomial Naive Bayes Classifier, smoothing value=0.9 : {:f}%'.format(score_mnb*100))"
   ]
  },
  {
   "cell_type": "code",
   "execution_count": 26,
   "id": "e35f0fac",
   "metadata": {},
   "outputs": [],
   "source": [
    "cm_y_pred4 = [files['target_names'][Y_tpred4[i]] for i in range(Y_test.shape[0])]"
   ]
  },
  {
   "cell_type": "markdown",
   "id": "084b2d41",
   "metadata": {},
   "source": [
    "### Save all the performances"
   ]
  },
  {
   "cell_type": "code",
   "execution_count": 27,
   "id": "4a447a16",
   "metadata": {},
   "outputs": [
    {
     "name": "stdout",
     "output_type": "stream",
     "text": [
      "\n",
      "\n",
      "\n",
      "-------------- multinomial Naive Bayes Classifier, first try --------------\n",
      "\n",
      "\n",
      "b) Confusion matrix\n",
      "\n",
      "axis : x-> Predicted labels; y-> True labels\n",
      "\n",
      "|bus|ent|pol|spo|tec|\n",
      "---------------------\n",
      "|96 |0  |2  |0  |4  |bus\n",
      "|2  |79 |1  |0  |2  |ent\n",
      "|1  |1  |76 |0  |0  |pol\n",
      "|1  |0  |0  |102|0  |spo\n",
      "|0  |1  |0  |0  |77 |tec\n",
      "\n",
      "\n",
      "c) Precision, recall, and F1-measure\n",
      "\n",
      "             | precision |  recall  | f1-score |\n",
      "business     |0.96       |0.941176  |0.950495  |\n",
      "entertainment|0.975308   |0.940476  |0.957575  |\n",
      "politics     |0.962025   |0.974358  |0.968152  |\n",
      "sport        |1.0        |0.990291  |0.995121  |\n",
      "tech         |0.927710   |0.987179  |0.956521  |\n",
      "\n",
      "\n",
      "\n",
      "d) Accuracy, macro-average F1 and weighted-average F1 of the model\n",
      "\n",
      "Accuracy                  :  0.9662921348314607\n",
      "Macro-average F1-score    :  0.9655734727345386\n",
      "Weighted-average F1-score :  0.966312446922542\n",
      "\n",
      "\n",
      "e) Prior probability\n",
      "\n",
      "business     :0.2292134831460674\n",
      "entertainment:0.18876404494382024\n",
      "politics     :0.1752808988764045\n",
      "sport        :0.23146067415730337\n",
      "tech         :0.1752808988764045\n",
      "\n",
      "\n",
      "f) Size of the vocabulary\n",
      "\n",
      "Size of vocabulary :  29421\n",
      "\n",
      "\n",
      "g) Number of word-tokens in each class\n",
      "\n",
      "business     :164663\n",
      "entertainment:124893\n",
      "politics     :185208\n",
      "sport        :162953\n",
      "tech         :198640\n",
      "\n",
      "\n",
      "h) Number of word-tokens in the entire corpus\n",
      "\n",
      "Total number of word in the entire corpus :  836357\n",
      "\n",
      "\n",
      "i) Number and percentage of words with a frequency of zero in each class\n",
      "\n",
      "\n",
      "|  bus  |  ent  |  pol  |  spo  |  tec  |\n",
      "----------------------------------------\n",
      "|164663 |124893 |185208 |162953 |198640 |Number of word in class\n",
      "|17538  |17746  |18201  |18850  |17323  |Number of word with a frequency of zero in each class\n",
      "|10.650%|14.208%|9.8273%|11.567%|8.7208%|Percentage of word with a frequency of zero\n",
      "\n",
      "\n",
      "j) Number and percentage of words with a frequency of one in the entire corpus\n",
      "\n",
      "Number of word appearing one time in the entire corpus :  10975\n",
      "Percentage of word appearing one time in the entire corpus :  37.303286767954866\n",
      "\n",
      "\n",
      "k) 2 favorite words\n",
      "word n°1 : 'artificial'-> 2853 occurences (log_prob:-5.680684483193309)\n",
      "word n°2 : 'intelligence'-> 14232 occurences (log_prob:-4.073562605061138)\n",
      "\n",
      "\n",
      "\n",
      "\n",
      "-------------- multinomial Naive Bayes Classifier, second try --------------\n",
      "\n",
      "\n",
      "b) Confusion matrix\n",
      "\n",
      "axis : x-> Predicted labels; y-> True labels\n",
      "\n",
      "|bus|ent|pol|spo|tec|\n",
      "---------------------\n",
      "|96 |0  |2  |0  |4  |bus\n",
      "|2  |79 |1  |0  |2  |ent\n",
      "|1  |1  |76 |0  |0  |pol\n",
      "|1  |0  |0  |102|0  |spo\n",
      "|0  |1  |0  |0  |77 |tec\n",
      "\n",
      "\n",
      "c) Precision, recall, and F1-measure\n",
      "\n",
      "             | precision |  recall  | f1-score |\n",
      "business     |0.96       |0.941176  |0.950495  |\n",
      "entertainment|0.975308   |0.940476  |0.957575  |\n",
      "politics     |0.962025   |0.974358  |0.968152  |\n",
      "sport        |1.0        |0.990291  |0.995121  |\n",
      "tech         |0.927710   |0.987179  |0.956521  |\n",
      "\n",
      "\n",
      "\n",
      "d) Accuracy, macro-average F1 and weighted-average F1 of the model\n",
      "\n",
      "Accuracy                  :  0.9662921348314607\n",
      "Macro-average F1-score    :  0.9655734727345386\n",
      "Weighted-average F1-score :  0.966312446922542\n",
      "\n",
      "\n",
      "e) Prior probability\n",
      "\n",
      "business     :0.2292134831460674\n",
      "entertainment:0.18876404494382024\n",
      "politics     :0.1752808988764045\n",
      "sport        :0.23146067415730337\n",
      "tech         :0.1752808988764045\n",
      "\n",
      "\n",
      "f) Size of the vocabulary\n",
      "\n",
      "Size of vocabulary :  29421\n",
      "\n",
      "\n",
      "g) Number of word-tokens in each class\n",
      "\n",
      "business     :164663\n",
      "entertainment:124893\n",
      "politics     :185208\n",
      "sport        :162953\n",
      "tech         :198640\n",
      "\n",
      "\n",
      "h) Number of word-tokens in the entire corpus\n",
      "\n",
      "Total number of word in the entire corpus :  836357\n",
      "\n",
      "\n",
      "i) Number and percentage of words with a frequency of zero in each class\n",
      "\n",
      "\n",
      "|  bus  |  ent  |  pol  |  spo  |  tec  |\n",
      "----------------------------------------\n",
      "|164663 |124893 |185208 |162953 |198640 |Number of word in class\n",
      "|17538  |17746  |18201  |18850  |17323  |Number of word with a frequency of zero in each class\n",
      "|10.650%|14.208%|9.8273%|11.567%|8.7208%|Percentage of word with a frequency of zero\n",
      "\n",
      "\n",
      "j) Number and percentage of words with a frequency of one in the entire corpus\n",
      "\n",
      "Number of word appearing one time in the entire corpus :  10975\n",
      "Percentage of word appearing one time in the entire corpus :  37.303286767954866\n",
      "\n",
      "\n",
      "k) 2 favorite words\n",
      "word n°1 : 'is'-> 14510 occurences (log_prob:-4.054217488528575)\n",
      "word n°2 : 'computer'-> 6496 occurences (log_prob:-4.857868952565295)\n",
      "\n",
      "\n",
      "\n",
      "\n",
      "-------------- multinomial Naive Bayes Classifier, smoothing value=0.0001 --------------\n",
      "\n",
      "\n",
      "b) Confusion matrix\n",
      "\n",
      "axis : x-> Predicted labels; y-> True labels\n",
      "\n",
      "|bus|ent|pol|spo|tec|\n",
      "---------------------\n",
      "|96 |0  |1  |0  |5  |bus\n",
      "|1  |80 |1  |0  |2  |ent\n",
      "|1  |0  |77 |0  |0  |pol\n",
      "|1  |0  |0  |102|0  |spo\n",
      "|0  |1  |0  |0  |77 |tec\n",
      "\n",
      "\n",
      "c) Precision, recall, and F1-measure\n",
      "\n",
      "             | precision |  recall  | f1-score |\n",
      "business     |0.969696   |0.941176  |0.955223  |\n",
      "entertainment|0.987654   |0.952380  |0.969696  |\n",
      "politics     |0.974683   |0.987179  |0.980891  |\n",
      "sport        |1.0        |0.990291  |0.995121  |\n",
      "tech         |0.916666   |0.987179  |0.950617  |\n",
      "\n",
      "\n",
      "\n",
      "d) Accuracy, macro-average F1 and weighted-average F1 of the model\n",
      "\n",
      "Accuracy                  :  0.9707865168539326\n",
      "Macro-average F1-score    :  0.9703103610418674\n",
      "Weighted-average F1-score :  0.9708823472793848\n",
      "\n",
      "\n",
      "e) Prior probability\n",
      "\n",
      "business     :0.2292134831460674\n",
      "entertainment:0.18876404494382024\n",
      "politics     :0.1752808988764045\n",
      "sport        :0.23146067415730337\n",
      "tech         :0.1752808988764045\n",
      "\n",
      "\n",
      "f) Size of the vocabulary\n",
      "\n",
      "Size of vocabulary :  29421\n",
      "\n",
      "\n",
      "g) Number of word-tokens in each class\n",
      "\n",
      "business     :164663\n",
      "entertainment:124893\n",
      "politics     :185208\n",
      "sport        :162953\n",
      "tech         :198640\n",
      "\n",
      "\n",
      "h) Number of word-tokens in the entire corpus\n",
      "\n",
      "Total number of word in the entire corpus :  836357\n",
      "\n",
      "\n",
      "i) Number and percentage of words with a frequency of zero in each class\n",
      "\n",
      "\n",
      "|  bus  |  ent  |  pol  |  spo  |  tec  |\n",
      "----------------------------------------\n",
      "|164663 |124893 |185208 |162953 |198640 |Number of word in class\n",
      "|17538  |17746  |18201  |18850  |17323  |Number of word with a frequency of zero in each class\n",
      "|10.650%|14.208%|9.8273%|11.567%|8.7208%|Percentage of word with a frequency of zero\n",
      "\n",
      "\n",
      "j) Number and percentage of words with a frequency of one in the entire corpus\n",
      "\n",
      "Number of word appearing one time in the entire corpus :  10975\n",
      "Percentage of word appearing one time in the entire corpus :  37.303286767954866\n",
      "\n",
      "\n",
      "k) 2 favorite words\n",
      "word n°1 : 'machine'-> 16398 occurences (log_prob:-3.931896179250686)\n",
      "word n°2 : 'learning'-> 15695 occurences (log_prob:-3.9757133651307552)\n",
      "\n",
      "\n",
      "\n",
      "\n",
      "-------------- multinomial Naive Bayes Classifier, smoothing value=0.9 --------------\n",
      "\n",
      "\n",
      "b) Confusion matrix\n",
      "\n",
      "axis : x-> Predicted labels; y-> True labels\n",
      "\n",
      "|bus|ent|pol|spo|tec|\n",
      "---------------------\n",
      "|96 |0  |2  |0  |4  |bus\n",
      "|2  |79 |1  |0  |2  |ent\n",
      "|1  |1  |76 |0  |0  |pol\n",
      "|1  |0  |0  |102|0  |spo\n",
      "|0  |1  |0  |0  |77 |tec\n",
      "\n",
      "\n",
      "c) Precision, recall, and F1-measure\n",
      "\n",
      "             | precision |  recall  | f1-score |\n",
      "business     |0.96       |0.941176  |0.950495  |\n",
      "entertainment|0.975308   |0.940476  |0.957575  |\n",
      "politics     |0.962025   |0.974358  |0.968152  |\n",
      "sport        |1.0        |0.990291  |0.995121  |\n",
      "tech         |0.927710   |0.987179  |0.956521  |\n",
      "\n",
      "\n",
      "\n",
      "d) Accuracy, macro-average F1 and weighted-average F1 of the model\n",
      "\n",
      "Accuracy                  :  0.9662921348314607\n",
      "Macro-average F1-score    :  0.9655734727345386\n",
      "Weighted-average F1-score :  0.966312446922542\n",
      "\n",
      "\n",
      "e) Prior probability\n",
      "\n",
      "business     :0.2292134831460674\n",
      "entertainment:0.18876404494382024\n",
      "politics     :0.1752808988764045\n",
      "sport        :0.23146067415730337\n",
      "tech         :0.1752808988764045\n",
      "\n",
      "\n",
      "f) Size of the vocabulary\n",
      "\n",
      "Size of vocabulary :  29421\n",
      "\n",
      "\n",
      "g) Number of word-tokens in each class\n",
      "\n",
      "business     :164663\n",
      "entertainment:124893\n",
      "politics     :185208\n",
      "sport        :162953\n",
      "tech         :198640\n",
      "\n",
      "\n",
      "h) Number of word-tokens in the entire corpus\n",
      "\n",
      "Total number of word in the entire corpus :  836357\n",
      "\n",
      "\n",
      "i) Number and percentage of words with a frequency of zero in each class\n",
      "\n",
      "\n",
      "|  bus  |  ent  |  pol  |  spo  |  tec  |\n",
      "----------------------------------------\n",
      "|164663 |124893 |185208 |162953 |198640 |Number of word in class\n",
      "|17538  |17746  |18201  |18850  |17323  |Number of word with a frequency of zero in each class\n",
      "|10.650%|14.208%|9.8273%|11.567%|8.7208%|Percentage of word with a frequency of zero\n",
      "\n",
      "\n",
      "j) Number and percentage of words with a frequency of one in the entire corpus\n",
      "\n"
     ]
    },
    {
     "name": "stdout",
     "output_type": "stream",
     "text": [
      "Number of word appearing one time in the entire corpus :  10975\n",
      "Percentage of word appearing one time in the entire corpus :  37.303286767954866\n",
      "\n",
      "\n",
      "k) 2 favorite words\n",
      "word n°1 : 'money'-> 17652 occurences (log_prob:-3.858206464017371)\n",
      "word n°2 : 'table'-> 26012 occurences (log_prob:-3.4704975854177667)\n",
      "\n"
     ]
    }
   ],
   "source": [
    "s1 = save(X,cm_y_true,cm_y_pred1,\"multinomial Naive Bayes Classifier, first try\",vectorizer,['artificial','intelligence'])\n",
    "s2 = save(X,cm_y_true,cm_y_pred2,\"multinomial Naive Bayes Classifier, second try\",vectorizer,['is','computer'])\n",
    "s3 = save(X,cm_y_true,cm_y_pred3,\"multinomial Naive Bayes Classifier, smoothing value=0.0001\",vectorizer,['machine','learning'])\n",
    "s4 = save(X,cm_y_true,cm_y_pred4,\"multinomial Naive Bayes Classifier, smoothing value=0.9\",vectorizer,['money','table'])\n",
    "\n"
   ]
  },
  {
   "cell_type": "code",
   "execution_count": 28,
   "id": "ff7ced8e",
   "metadata": {},
   "outputs": [],
   "source": [
    "f = open(\"bbc-performance.txt\", \"w\")\n",
    "f.write(s1)\n",
    "f.write(s2)\n",
    "f.write(s3)\n",
    "f.write(s4)\n",
    "f.close()"
   ]
  }
 ],
 "metadata": {
  "kernelspec": {
   "display_name": "Python 3",
   "language": "python",
   "name": "python3"
  },
  "language_info": {
   "codemirror_mode": {
    "name": "ipython",
    "version": 3
   },
   "file_extension": ".py",
   "mimetype": "text/x-python",
   "name": "python",
   "nbconvert_exporter": "python",
   "pygments_lexer": "ipython3",
   "version": "3.8.10"
  }
 },
 "nbformat": 4,
 "nbformat_minor": 5
}
